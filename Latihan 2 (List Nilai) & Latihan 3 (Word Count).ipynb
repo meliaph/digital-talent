{
 "cells": [
  {
   "cell_type": "markdown",
   "metadata": {},
   "source": [
    "# LATIHAN 2 - Tugas List Nilai"
   ]
  },
  {
   "cell_type": "markdown",
   "metadata": {},
   "source": [
    "Diberikan sekumpulan nilai random antara 0 sampai dengan 100 sebanyak 250 nilai. Buatlah program untuk melakukan hal berikut:\n",
    "1. Tampilkan angka ganjil dari 250 nilai tersebut!\n",
    "2. Tampilkan berapa banyak yang mendapatkan nilai lebih dari 70!\n",
    "3. Tampilkan standar deviasi dari sekumpulan nilai tersebut!\n",
    "4. Tampilkan nilai maksimum dan minimum!\n",
    "5. Tampilkan modus dari sekumpulan nilai tersebut!"
   ]
  },
  {
   "cell_type": "code",
   "execution_count": 122,
   "metadata": {
    "scrolled": false
   },
   "outputs": [
    {
     "name": "stdout",
     "output_type": "stream",
     "text": [
      "Daftar Nilai Tugas adalah sebagai berikut: [72, 71, 27, 40, 75, 66, 94, 62, 37, 54, 51, 51, 74, 18, 94, 51, 61, 62, 72, 28, 25, 73, 2, 57, 86, 10, 24, 48, 45, 52, 37, 5, 73, 15, 55, 45, 95, 20, 95, 65, 42, 57, 95, 57, 21, 63, 81, 26, 11, 34, 69, 61, 84, 96, 83, 39, 76, 59, 82, 76, 79, 36, 36, 80, 32, 72, 11, 51, 42, 79, 76, 57, 49, 67, 45, 9, 32, 1, 42, 85, 26, 61, 63, 94, 9, 51, 50, 82, 60, 14, 7, 41, 55, 55, 28, 91, 31, 59, 37, 62, 87, 41, 71, 84, 29, 24, 20, 73, 24, 9, 57, 42, 81, 44, 32, 41, 10, 65, 8, 44, 36, 58, 6, 74, 59, 74, 88, 33, 57, 58, 39, 96, 54, 66, 69, 1, 10, 71, 34, 41, 67, 28, 44, 47, 70, 27, 69, 32, 64, 73, 26, 32, 27, 45, 24, 90, 41, 45, 60, 22, 84, 60, 61, 76, 34, 33, 69, 96, 93, 26, 51, 52, 71, 5, 78, 44, 72, 45, 41, 23, 3, 98, 89, 1, 72, 99, 11, 80, 90, 64, 18, 56, 9, 92, 45, 46, 12, 88, 64, 70, 84, 2, 95, 79, 45, 80, 81, 41, 70, 49, 84, 3, 99, 20, 37, 38, 24, 77, 93, 20, 19, 6, 19, 32, 57, 73, 70, 53, 11, 75, 75, 48, 12, 98, 73, 10, 99, 97, 66, 49, 6, 48, 64, 24, 78, 64, 74, 98, 98, 80]\n",
      "==========================================================================================================================\n",
      "Berikut ini nilai dengan angka ganjil:\n",
      "71 27 75 37 51 51 51 61 25 73 57 45 37 5 73 15 55 45 95 95 65 57 95 57 21 63 81 11 69 61 83 39 59 79 11 51 79 57 49 67 45 9 1 85 61 63 9 51 7 41 55 55 91 31 59 37 87 41 71 29 73 9 57 81 41 65 59 33 57 39 69 1 71 41 67 47 27 69 73 27 45 41 45 61 33 69 93 51 71 5 45 41 23 3 89 1 99 11 9 45 95 79 45 81 41 49 3 99 37 77 93 19 19 57 73 53 11 75 75 73 99 97 49 \n",
      "==========================================================================================================================\n",
      "Berikut ini nilai yang lebih dari 70:\n",
      "72 71 75 94 74 94 72 73 86 73 95 95 95 81 84 96 83 76 82 76 79 80 72 79 76 85 94 82 91 87 71 84 73 81 74 74 88 96 71 73 90 84 76 96 93 71 78 72 98 89 72 99 80 90 92 88 84 95 79 80 81 84 99 77 93 73 75 75 98 73 99 97 78 74 98 98 80 \n",
      "==========================================================================================================================\n",
      "Nilai Standar Deviasi dengan python statistics adalah: 26.88905093604019\n",
      "Nilai Standar Deviasi dengan hitungan manual adalah= 26.835218948240392\n",
      "Rata-rata Nilai adalah= 52.468\n",
      "==========================================================================================================================\n",
      "Nilai Maksimum adalah: 99\n",
      "==========================================================================================================================\n",
      "Nilai Minimum adalah: 1\n",
      "==========================================================================================================================\n",
      "Nilai Modus adalah: 45\n",
      "==========================================================================================================================\n"
     ]
    }
   ],
   "source": [
    "# GENERATE RANDOM NUMBER\n",
    "import random\n",
    "\n",
    "nilaiTugas = []\n",
    "for i in range(250):\n",
    "    nilaiTugas.append(random.randrange(1,100,1))\n",
    "\n",
    "print(\"Daftar Nilai Tugas adalah sebagai berikut:\", nilaiTugas)\n",
    "print(\"==========================================================================================================================\")\n",
    "\n",
    "\n",
    "# 1. Angka Ganjil\n",
    "print(\"Berikut ini nilai dengan angka ganjil:\")\n",
    "for n in nilaiTugas:\n",
    "    if n%2 != 0:\n",
    "        print(n, end=\" \")\n",
    "\n",
    "print()\n",
    "print(\"==========================================================================================================================\")\n",
    " \n",
    "    \n",
    "# 2. Nilai lebih dari 70\n",
    "print(\"Berikut ini nilai yang lebih dari 70:\")\n",
    "for o in nilaiTugas:\n",
    "    if o > 70:\n",
    "        print(o, end=\" \")\n",
    "\n",
    "print()\n",
    "print(\"==========================================================================================================================\")\n",
    "\n",
    "\n",
    "# 3. Standar Deviasi\n",
    "# a. Python Statistics\n",
    "import statistics\n",
    "sd = statistics.stdev(nilaiTugas)\n",
    "print(\"Nilai Standar Deviasi dengan python statistics adalah:\", sd)\n",
    "\n",
    "# b. Cara Manual\n",
    "total=0\n",
    "for r in nilaiTugas:\n",
    "    total = total + r\n",
    "    \n",
    "rata = total / len(nilaiTugas)\n",
    "\n",
    "total2=0\n",
    "for z in nilaiTugas:\n",
    "    total2 = total2 + ((rata-z)**2)\n",
    "\n",
    "sd2 = (total2 / len(nilaiTugas))**0.5\n",
    "\n",
    "print(\"Nilai Standar Deviasi dengan hitungan manual adalah=\", sd2)\n",
    "print(\"Rata-rata Nilai adalah=\", rata)\n",
    "print(\"==========================================================================================================================\")\n",
    "\n",
    "\n",
    "# 4. Nilai Maksimum\n",
    "A = max(nilaiTugas)\n",
    "print(\"Nilai Maksimum adalah:\", A)\n",
    "print(\"==========================================================================================================================\")\n",
    "\n",
    "\n",
    "# 5. Nilai Minimum \n",
    "B = min(nilaiTugas)\n",
    "print(\"Nilai Minimum adalah:\", B)\n",
    "print(\"==========================================================================================================================\")\n",
    "\n",
    "\n",
    "# 6. Modus\n",
    "mod = max(set(nilaiTugas), key=nilaiTugas.count)\n",
    "print(\"Nilai Modus adalah:\", mod)\n",
    "print(\"==========================================================================================================================\")"
   ]
  },
  {
   "cell_type": "markdown",
   "metadata": {},
   "source": [
    "# LATIHAN 3 - Word Count"
   ]
  },
  {
   "cell_type": "markdown",
   "metadata": {},
   "source": [
    "Diberikan sebuah paragraf, hitunglah banyak kemunculan masing-masing kata.\n",
    "Contoh : \"Presiden pagi ini melakukan kunjungan ke Jogja\"\n",
    "\n",
    "- presiden: 1\n",
    "- pagi: 1\n",
    "- ini: 1\n",
    "- melakukan: 1\n",
    "- kunjungan: 1\n",
    "- ke: 1\n",
    "- jogja: 1\n",
    "\n",
    "hints: Gunakan Dictionary dalam menyimpan word count. Gunakan kata sebagai key, dan jumlah kemunculan sebagai value"
   ]
  },
  {
   "cell_type": "code",
   "execution_count": 124,
   "metadata": {},
   "outputs": [
    {
     "name": "stdout",
     "output_type": "stream",
     "text": [
      "barcelona berhasil merebut posisi puncak klasemen la liga spanyol seusai menang 4-2 atas sevilla pada pertandingan pekan kesembilan di stadion camp nou, sabtu (20/10/2018) atau minggu dini hari wib. barcelona membuka keunggulan pada menit ke-2 melalui gol yang dicetak oleh philippe coutinho. lionel messi menggandakan keunggulan barcelona, 10 menit berselang.  namun, nahas bagi barcelona, karena messi harus ditarik keluar pada menit ke-26 setelah mengalami cedera. tanpa messi, skor 2-0 bertahan hingga babak pertama berakhir.\n"
     ]
    }
   ],
   "source": [
    "paragraf = \"Barcelona berhasil merebut posisi puncak klasemen La Liga Spanyol seusai menang 4-2 atas Sevilla pada pertandingan pekan kesembilan di Stadion Camp Nou, Sabtu (20/10/2018) atau Minggu dini hari WIB. Barcelona membuka keunggulan pada menit ke-2 melalui gol yang dicetak oleh Philippe Coutinho. Lionel Messi menggandakan keunggulan Barcelona, 10 menit berselang.  Namun, nahas bagi Barcelona, karena Messi harus ditarik keluar pada menit ke-26 setelah mengalami cedera. Tanpa Messi, skor 2-0 bertahan hingga babak pertama berakhir.\"\n",
    "teks = paragraf.lower()\n",
    "print(teks)"
   ]
  },
  {
   "cell_type": "code",
   "execution_count": 125,
   "metadata": {},
   "outputs": [
    {
     "name": "stdout",
     "output_type": "stream",
     "text": [
      "['barcelona', 'berhasil', 'merebut', 'posisi', 'puncak', 'klasemen', 'la', 'liga', 'spanyol', 'seusai', 'menang', '4-2', 'atas', 'sevilla', 'pada', 'pertandingan', 'pekan', 'kesembilan', 'di', 'stadion', 'camp', 'nou,', 'sabtu', '(20/10/2018)', 'atau', 'minggu', 'dini', 'hari', 'wib.', 'barcelona', 'membuka', 'keunggulan', 'pada', 'menit', 'ke-2', 'melalui', 'gol', 'yang', 'dicetak', 'oleh', 'philippe', 'coutinho.', 'lionel', 'messi', 'menggandakan', 'keunggulan', 'barcelona,', '10', 'menit', 'berselang.', 'namun,', 'nahas', 'bagi', 'barcelona,', 'karena', 'messi', 'harus', 'ditarik', 'keluar', 'pada', 'menit', 'ke-26', 'setelah', 'mengalami', 'cedera.', 'tanpa', 'messi,', 'skor', '2-0', 'bertahan', 'hingga', 'babak', 'pertama', 'berakhir.']\n"
     ]
    }
   ],
   "source": [
    "listKata = teks.split()\n",
    "print(listKata)"
   ]
  },
  {
   "cell_type": "code",
   "execution_count": 129,
   "metadata": {},
   "outputs": [
    {
     "name": "stdout",
     "output_type": "stream",
     "text": [
      "barcelona : 2\n",
      "berhasil : 1\n",
      "merebut : 1\n",
      "posisi : 1\n",
      "puncak : 1\n",
      "klasemen : 1\n",
      "la : 1\n",
      "liga : 1\n",
      "spanyol : 1\n",
      "seusai : 1\n",
      "menang : 1\n",
      "4-2 : 1\n",
      "atas : 1\n",
      "sevilla : 1\n",
      "pada : 3\n",
      "pertandingan : 1\n",
      "pekan : 1\n",
      "kesembilan : 1\n",
      "di : 1\n",
      "stadion : 1\n",
      "camp : 1\n",
      "nou, : 1\n",
      "sabtu : 1\n",
      "(20/10/2018) : 1\n",
      "atau : 1\n",
      "minggu : 1\n",
      "dini : 1\n",
      "hari : 1\n",
      "wib. : 1\n",
      "membuka : 1\n",
      "keunggulan : 2\n",
      "menit : 3\n",
      "ke-2 : 1\n",
      "melalui : 1\n",
      "gol : 1\n",
      "yang : 1\n",
      "dicetak : 1\n",
      "oleh : 1\n",
      "philippe : 1\n",
      "coutinho. : 1\n",
      "lionel : 1\n",
      "messi : 2\n",
      "menggandakan : 1\n",
      "barcelona, : 2\n",
      "10 : 1\n",
      "berselang. : 1\n",
      "namun, : 1\n",
      "nahas : 1\n",
      "bagi : 1\n",
      "karena : 1\n",
      "harus : 1\n",
      "ditarik : 1\n",
      "keluar : 1\n",
      "ke-26 : 1\n",
      "setelah : 1\n",
      "mengalami : 1\n",
      "cedera. : 1\n",
      "tanpa : 1\n",
      "messi, : 1\n",
      "skor : 1\n",
      "2-0 : 1\n",
      "bertahan : 1\n",
      "hingga : 1\n",
      "babak : 1\n",
      "pertama : 1\n",
      "berakhir. : 1\n"
     ]
    }
   ],
   "source": [
    "# Cara 1\n",
    "dict = {}\n",
    "\n",
    "for kata in listKata:\n",
    "    if kata in dict:\n",
    "        dict[kata] += 1\n",
    "\n",
    "for key, value in d.items():\n",
    "    print(key, \":\", value)"
   ]
  },
  {
   "cell_type": "code",
   "execution_count": 128,
   "metadata": {},
   "outputs": [
    {
     "name": "stdout",
     "output_type": "stream",
     "text": [
      "barcelona : 2\n",
      "berhasil : 1\n",
      "merebut : 1\n",
      "posisi : 1\n",
      "puncak : 1\n",
      "klasemen : 1\n",
      "la : 1\n",
      "liga : 1\n",
      "spanyol : 1\n",
      "seusai : 1\n",
      "menang : 1\n",
      "4-2 : 1\n",
      "atas : 1\n",
      "sevilla : 1\n",
      "pada : 3\n",
      "pertandingan : 1\n",
      "pekan : 1\n",
      "kesembilan : 1\n",
      "di : 1\n",
      "stadion : 1\n",
      "camp : 1\n",
      "nou, : 1\n",
      "sabtu : 1\n",
      "(20/10/2018) : 1\n",
      "atau : 1\n",
      "minggu : 1\n",
      "dini : 1\n",
      "hari : 1\n",
      "wib. : 1\n",
      "membuka : 1\n",
      "keunggulan : 2\n",
      "menit : 3\n",
      "ke-2 : 1\n",
      "melalui : 1\n",
      "gol : 1\n",
      "yang : 1\n",
      "dicetak : 1\n",
      "oleh : 1\n",
      "philippe : 1\n",
      "coutinho. : 1\n",
      "lionel : 1\n",
      "messi : 2\n",
      "menggandakan : 1\n",
      "barcelona, : 2\n",
      "10 : 1\n",
      "berselang. : 1\n",
      "namun, : 1\n",
      "nahas : 1\n",
      "bagi : 1\n",
      "karena : 1\n",
      "harus : 1\n",
      "ditarik : 1\n",
      "keluar : 1\n",
      "ke-26 : 1\n",
      "setelah : 1\n",
      "mengalami : 1\n",
      "cedera. : 1\n",
      "tanpa : 1\n",
      "messi, : 1\n",
      "skor : 1\n",
      "2-0 : 1\n",
      "bertahan : 1\n",
      "hingga : 1\n",
      "babak : 1\n",
      "pertama : 1\n",
      "berakhir. : 1\n"
     ]
    }
   ],
   "source": [
    "# Cara 2\n",
    "d = {}\n",
    "for kata in listKata:\n",
    "    d[kata] = d.get(kata, 0) + 1\n",
    "\n",
    "for key, value in d.items():\n",
    "        print(key, \":\", value)"
   ]
  },
  {
   "cell_type": "code",
   "execution_count": null,
   "metadata": {},
   "outputs": [],
   "source": []
  }
 ],
 "metadata": {
  "kernelspec": {
   "display_name": "Python 3",
   "language": "python",
   "name": "python3"
  },
  "language_info": {
   "codemirror_mode": {
    "name": "ipython",
    "version": 3
   },
   "file_extension": ".py",
   "mimetype": "text/x-python",
   "name": "python",
   "nbconvert_exporter": "python",
   "pygments_lexer": "ipython3",
   "version": "3.7.0"
  }
 },
 "nbformat": 4,
 "nbformat_minor": 2
}
