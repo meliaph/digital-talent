{
 "cells": [
  {
   "cell_type": "markdown",
   "metadata": {},
   "source": [
    "# Potensi Objek Wisata Museum di DKI Jakarta"
   ]
  },
  {
   "cell_type": "markdown",
   "metadata": {},
   "source": [
    "### 1. Deskripsi Data\n",
    "Bersumber dari laman data.go.id pada grup data \"Pariwisata\" didapatkan dua kumpulan data yang berkaitan dengan objek wisata museum di Daerah Khusus Ibukota Jakarta. Data pertama menunjukkan jumlah pengunjung dari beberapa objek wisata berjenis museum dari tahun 2010 sampai 2011. \n",
    "Kemudian diambil pula data lain yang menunjukkan penghasilan tiap museum dari penjualan tiket masuk di periode waktu yang sama. Dari kedua data ini, akan dilakukan analisa yang bertujuan untuk menunjukkan potensi wisata museum di DKI Jakarta.\n",
    "\n",
    "Sumber data 1: https://data.go.id/dataset/pengunjung-museum-menurut-jenis-museum-dki-jakarta-2010-2011/resource/33e2df9c-569f-4b90-a3ec-d21577d7932a\n",
    "\n",
    "Sumber data 2: https://data.go.id/dataset/hasil-penjualan-tiket-masuk-museum-menurut-jenis-museum-2010-2011/resource/9b2af582-26aa-420e-9cff-0c00bce22b12"
   ]
  },
  {
   "cell_type": "code",
   "execution_count": 7,
   "metadata": {},
   "outputs": [],
   "source": [
    "import pandas as pd"
   ]
  },
  {
   "cell_type": "code",
   "execution_count": 5,
   "metadata": {},
   "outputs": [],
   "source": [
    "data_pengunjungmuseum = pd.read_csv('jumlahpengunjungmuseummenurutjenismuseum20102011.csv', delimiter = ',', encoding = \"ISO-8859-1\")"
   ]
  },
  {
   "cell_type": "code",
   "execution_count": 6,
   "metadata": {
    "collapsed": true
   },
   "outputs": [
    {
     "data": {
      "text/html": [
       "<div>\n",
       "<style scoped>\n",
       "    .dataframe tbody tr th:only-of-type {\n",
       "        vertical-align: middle;\n",
       "    }\n",
       "\n",
       "    .dataframe tbody tr th {\n",
       "        vertical-align: top;\n",
       "    }\n",
       "\n",
       "    .dataframe thead th {\n",
       "        text-align: right;\n",
       "    }\n",
       "</style>\n",
       "<table border=\"1\" class=\"dataframe\">\n",
       "  <thead>\n",
       "    <tr style=\"text-align: right;\">\n",
       "      <th></th>\n",
       "      <th>tahun</th>\n",
       "      <th>nama_museum</th>\n",
       "      <th>jumlah_pengunjung</th>\n",
       "    </tr>\n",
       "  </thead>\n",
       "  <tbody>\n",
       "    <tr>\n",
       "      <th>0</th>\n",
       "      <td>2010</td>\n",
       "      <td>Monumen Nasional</td>\n",
       "      <td>1253266</td>\n",
       "    </tr>\n",
       "    <tr>\n",
       "      <th>1</th>\n",
       "      <td>2010</td>\n",
       "      <td>Sejarah Jakarta dan Prasasti</td>\n",
       "      <td>724082</td>\n",
       "    </tr>\n",
       "    <tr>\n",
       "      <th>2</th>\n",
       "      <td>2010</td>\n",
       "      <td>Bahari</td>\n",
       "      <td>6327</td>\n",
       "    </tr>\n",
       "    <tr>\n",
       "      <th>3</th>\n",
       "      <td>2010</td>\n",
       "      <td>Wayang</td>\n",
       "      <td>164696</td>\n",
       "    </tr>\n",
       "    <tr>\n",
       "      <th>4</th>\n",
       "      <td>2010</td>\n",
       "      <td>Tekstil</td>\n",
       "      <td>43107</td>\n",
       "    </tr>\n",
       "    <tr>\n",
       "      <th>5</th>\n",
       "      <td>2010</td>\n",
       "      <td>Seni Rupa dan Keramik</td>\n",
       "      <td>76713</td>\n",
       "    </tr>\n",
       "    <tr>\n",
       "      <th>6</th>\n",
       "      <td>2010</td>\n",
       "      <td>Joang'45 dan M.H Thamrin</td>\n",
       "      <td>17504</td>\n",
       "    </tr>\n",
       "    <tr>\n",
       "      <th>7</th>\n",
       "      <td>2010</td>\n",
       "      <td>Taman Arkeologi Pulau Onrust</td>\n",
       "      <td>19443</td>\n",
       "    </tr>\n",
       "    <tr>\n",
       "      <th>8</th>\n",
       "      <td>2011</td>\n",
       "      <td>Monumen Nasional</td>\n",
       "      <td>1516153</td>\n",
       "    </tr>\n",
       "    <tr>\n",
       "      <th>9</th>\n",
       "      <td>2011</td>\n",
       "      <td>Sejarah Jakarta dan Prasasti</td>\n",
       "      <td>437040</td>\n",
       "    </tr>\n",
       "    <tr>\n",
       "      <th>10</th>\n",
       "      <td>2011</td>\n",
       "      <td>Bahari</td>\n",
       "      <td>24076</td>\n",
       "    </tr>\n",
       "    <tr>\n",
       "      <th>11</th>\n",
       "      <td>2011</td>\n",
       "      <td>Wayang</td>\n",
       "      <td>202489</td>\n",
       "    </tr>\n",
       "    <tr>\n",
       "      <th>12</th>\n",
       "      <td>2011</td>\n",
       "      <td>Tekstil</td>\n",
       "      <td>53485</td>\n",
       "    </tr>\n",
       "    <tr>\n",
       "      <th>13</th>\n",
       "      <td>2011</td>\n",
       "      <td>Seni Rupa dan Keramik</td>\n",
       "      <td>35966</td>\n",
       "    </tr>\n",
       "    <tr>\n",
       "      <th>14</th>\n",
       "      <td>2011</td>\n",
       "      <td>Joang'45 dan M.H Thamrin</td>\n",
       "      <td>18370</td>\n",
       "    </tr>\n",
       "    <tr>\n",
       "      <th>15</th>\n",
       "      <td>2011</td>\n",
       "      <td>Taman Arkeologi Pulau Onrust</td>\n",
       "      <td>15596</td>\n",
       "    </tr>\n",
       "  </tbody>\n",
       "</table>\n",
       "</div>"
      ],
      "text/plain": [
       "    tahun                   nama_museum  jumlah_pengunjung\n",
       "0    2010              Monumen Nasional            1253266\n",
       "1    2010  Sejarah Jakarta dan Prasasti             724082\n",
       "2    2010                        Bahari               6327\n",
       "3    2010                        Wayang             164696\n",
       "4    2010                       Tekstil              43107\n",
       "5    2010         Seni Rupa dan Keramik              76713\n",
       "6    2010      Joang'45 dan M.H Thamrin              17504\n",
       "7    2010  Taman Arkeologi Pulau Onrust              19443\n",
       "8    2011              Monumen Nasional            1516153\n",
       "9    2011  Sejarah Jakarta dan Prasasti             437040\n",
       "10   2011                        Bahari              24076\n",
       "11   2011                        Wayang             202489\n",
       "12   2011                       Tekstil              53485\n",
       "13   2011         Seni Rupa dan Keramik              35966\n",
       "14   2011      Joang'45 dan M.H Thamrin              18370\n",
       "15   2011  Taman Arkeologi Pulau Onrust              15596"
      ]
     },
     "execution_count": 6,
     "metadata": {},
     "output_type": "execute_result"
    }
   ],
   "source": [
    "data_pengunjungmuseum #Data Awal Jumlah Pengunjung Museum"
   ]
  },
  {
   "cell_type": "code",
   "execution_count": 8,
   "metadata": {},
   "outputs": [],
   "source": [
    "data_hasiltiket = pd.read_csv('jumlahhasilpenjualantiketmasukmuseummenurutjenismuseum20102011.csv', delimiter = ',', encoding = \"ISO-8859-1\")"
   ]
  },
  {
   "cell_type": "code",
   "execution_count": 9,
   "metadata": {
    "collapsed": true
   },
   "outputs": [
    {
     "data": {
      "text/html": [
       "<div>\n",
       "<style scoped>\n",
       "    .dataframe tbody tr th:only-of-type {\n",
       "        vertical-align: middle;\n",
       "    }\n",
       "\n",
       "    .dataframe tbody tr th {\n",
       "        vertical-align: top;\n",
       "    }\n",
       "\n",
       "    .dataframe thead th {\n",
       "        text-align: right;\n",
       "    }\n",
       "</style>\n",
       "<table border=\"1\" class=\"dataframe\">\n",
       "  <thead>\n",
       "    <tr style=\"text-align: right;\">\n",
       "      <th></th>\n",
       "      <th>tahun</th>\n",
       "      <th>nama_museum</th>\n",
       "      <th>nilai_penjualan</th>\n",
       "    </tr>\n",
       "  </thead>\n",
       "  <tbody>\n",
       "    <tr>\n",
       "      <th>0</th>\n",
       "      <td>2010</td>\n",
       "      <td>Monumen Nasional</td>\n",
       "      <td>4574622135</td>\n",
       "    </tr>\n",
       "    <tr>\n",
       "      <th>1</th>\n",
       "      <td>2010</td>\n",
       "      <td>Sejarah Jakarta dan Prasasti</td>\n",
       "      <td>586971800</td>\n",
       "    </tr>\n",
       "    <tr>\n",
       "      <th>2</th>\n",
       "      <td>2010</td>\n",
       "      <td>Bahari</td>\n",
       "      <td>7796400</td>\n",
       "    </tr>\n",
       "    <tr>\n",
       "      <th>3</th>\n",
       "      <td>2010</td>\n",
       "      <td>Wayang</td>\n",
       "      <td>288582750</td>\n",
       "    </tr>\n",
       "    <tr>\n",
       "      <th>4</th>\n",
       "      <td>2010</td>\n",
       "      <td>Tekstil</td>\n",
       "      <td>40929750</td>\n",
       "    </tr>\n",
       "    <tr>\n",
       "      <th>5</th>\n",
       "      <td>2010</td>\n",
       "      <td>Seni Rupa dan Keramik</td>\n",
       "      <td>115220000</td>\n",
       "    </tr>\n",
       "    <tr>\n",
       "      <th>6</th>\n",
       "      <td>2010</td>\n",
       "      <td>Joang'45 dan M.H Thamrin</td>\n",
       "      <td>17552650</td>\n",
       "    </tr>\n",
       "    <tr>\n",
       "      <th>7</th>\n",
       "      <td>2010</td>\n",
       "      <td>Taman Arkeologi Pulau Onrust</td>\n",
       "      <td>25558500</td>\n",
       "    </tr>\n",
       "    <tr>\n",
       "      <th>8</th>\n",
       "      <td>2011</td>\n",
       "      <td>Monumen Nasional</td>\n",
       "      <td>11371147500</td>\n",
       "    </tr>\n",
       "    <tr>\n",
       "      <th>9</th>\n",
       "      <td>2011</td>\n",
       "      <td>Sejarah Jakarta dan Prasasti</td>\n",
       "      <td>874080000</td>\n",
       "    </tr>\n",
       "    <tr>\n",
       "      <th>10</th>\n",
       "      <td>2011</td>\n",
       "      <td>Bahari</td>\n",
       "      <td>48152000</td>\n",
       "    </tr>\n",
       "    <tr>\n",
       "      <th>11</th>\n",
       "      <td>2011</td>\n",
       "      <td>Wayang</td>\n",
       "      <td>404978000</td>\n",
       "    </tr>\n",
       "    <tr>\n",
       "      <th>12</th>\n",
       "      <td>2011</td>\n",
       "      <td>Tekstil</td>\n",
       "      <td>106970000</td>\n",
       "    </tr>\n",
       "    <tr>\n",
       "      <th>13</th>\n",
       "      <td>2011</td>\n",
       "      <td>Seni Rupa dan Keramik</td>\n",
       "      <td>71932000</td>\n",
       "    </tr>\n",
       "    <tr>\n",
       "      <th>14</th>\n",
       "      <td>2011</td>\n",
       "      <td>Joang'45 dan M.H Thamrin</td>\n",
       "      <td>36740000</td>\n",
       "    </tr>\n",
       "    <tr>\n",
       "      <th>15</th>\n",
       "      <td>2011</td>\n",
       "      <td>Taman Arkeologi Pulau Onrust</td>\n",
       "      <td>31192000</td>\n",
       "    </tr>\n",
       "  </tbody>\n",
       "</table>\n",
       "</div>"
      ],
      "text/plain": [
       "    tahun                   nama_museum  nilai_penjualan\n",
       "0    2010              Monumen Nasional       4574622135\n",
       "1    2010  Sejarah Jakarta dan Prasasti        586971800\n",
       "2    2010                        Bahari          7796400\n",
       "3    2010                        Wayang        288582750\n",
       "4    2010                       Tekstil         40929750\n",
       "5    2010         Seni Rupa dan Keramik        115220000\n",
       "6    2010      Joang'45 dan M.H Thamrin         17552650\n",
       "7    2010  Taman Arkeologi Pulau Onrust         25558500\n",
       "8    2011              Monumen Nasional      11371147500\n",
       "9    2011  Sejarah Jakarta dan Prasasti        874080000\n",
       "10   2011                        Bahari         48152000\n",
       "11   2011                        Wayang        404978000\n",
       "12   2011                       Tekstil        106970000\n",
       "13   2011         Seni Rupa dan Keramik         71932000\n",
       "14   2011      Joang'45 dan M.H Thamrin         36740000\n",
       "15   2011  Taman Arkeologi Pulau Onrust         31192000"
      ]
     },
     "execution_count": 9,
     "metadata": {},
     "output_type": "execute_result"
    }
   ],
   "source": [
    "data_hasiltiket #Data Awal Hasil Penjualan Tiket"
   ]
  },
  {
   "cell_type": "code",
   "execution_count": 43,
   "metadata": {},
   "outputs": [],
   "source": [
    "data_pengunjung = data_pengunjungmuseum[['nama_museum','jumlah_pengunjung']]"
   ]
  },
  {
   "cell_type": "code",
   "execution_count": 44,
   "metadata": {
    "collapsed": true
   },
   "outputs": [
    {
     "data": {
      "text/html": [
       "<div>\n",
       "<style scoped>\n",
       "    .dataframe tbody tr th:only-of-type {\n",
       "        vertical-align: middle;\n",
       "    }\n",
       "\n",
       "    .dataframe tbody tr th {\n",
       "        vertical-align: top;\n",
       "    }\n",
       "\n",
       "    .dataframe thead th {\n",
       "        text-align: right;\n",
       "    }\n",
       "</style>\n",
       "<table border=\"1\" class=\"dataframe\">\n",
       "  <thead>\n",
       "    <tr style=\"text-align: right;\">\n",
       "      <th></th>\n",
       "      <th>nama_museum</th>\n",
       "      <th>jumlah_pengunjung</th>\n",
       "    </tr>\n",
       "  </thead>\n",
       "  <tbody>\n",
       "    <tr>\n",
       "      <th>0</th>\n",
       "      <td>Monumen Nasional</td>\n",
       "      <td>1253266</td>\n",
       "    </tr>\n",
       "    <tr>\n",
       "      <th>1</th>\n",
       "      <td>Sejarah Jakarta dan Prasasti</td>\n",
       "      <td>724082</td>\n",
       "    </tr>\n",
       "    <tr>\n",
       "      <th>2</th>\n",
       "      <td>Bahari</td>\n",
       "      <td>6327</td>\n",
       "    </tr>\n",
       "    <tr>\n",
       "      <th>3</th>\n",
       "      <td>Wayang</td>\n",
       "      <td>164696</td>\n",
       "    </tr>\n",
       "    <tr>\n",
       "      <th>4</th>\n",
       "      <td>Tekstil</td>\n",
       "      <td>43107</td>\n",
       "    </tr>\n",
       "    <tr>\n",
       "      <th>5</th>\n",
       "      <td>Seni Rupa dan Keramik</td>\n",
       "      <td>76713</td>\n",
       "    </tr>\n",
       "    <tr>\n",
       "      <th>6</th>\n",
       "      <td>Joang'45 dan M.H Thamrin</td>\n",
       "      <td>17504</td>\n",
       "    </tr>\n",
       "    <tr>\n",
       "      <th>7</th>\n",
       "      <td>Taman Arkeologi Pulau Onrust</td>\n",
       "      <td>19443</td>\n",
       "    </tr>\n",
       "    <tr>\n",
       "      <th>8</th>\n",
       "      <td>Monumen Nasional</td>\n",
       "      <td>1516153</td>\n",
       "    </tr>\n",
       "    <tr>\n",
       "      <th>9</th>\n",
       "      <td>Sejarah Jakarta dan Prasasti</td>\n",
       "      <td>437040</td>\n",
       "    </tr>\n",
       "    <tr>\n",
       "      <th>10</th>\n",
       "      <td>Bahari</td>\n",
       "      <td>24076</td>\n",
       "    </tr>\n",
       "    <tr>\n",
       "      <th>11</th>\n",
       "      <td>Wayang</td>\n",
       "      <td>202489</td>\n",
       "    </tr>\n",
       "    <tr>\n",
       "      <th>12</th>\n",
       "      <td>Tekstil</td>\n",
       "      <td>53485</td>\n",
       "    </tr>\n",
       "    <tr>\n",
       "      <th>13</th>\n",
       "      <td>Seni Rupa dan Keramik</td>\n",
       "      <td>35966</td>\n",
       "    </tr>\n",
       "    <tr>\n",
       "      <th>14</th>\n",
       "      <td>Joang'45 dan M.H Thamrin</td>\n",
       "      <td>18370</td>\n",
       "    </tr>\n",
       "    <tr>\n",
       "      <th>15</th>\n",
       "      <td>Taman Arkeologi Pulau Onrust</td>\n",
       "      <td>15596</td>\n",
       "    </tr>\n",
       "  </tbody>\n",
       "</table>\n",
       "</div>"
      ],
      "text/plain": [
       "                     nama_museum  jumlah_pengunjung\n",
       "0               Monumen Nasional            1253266\n",
       "1   Sejarah Jakarta dan Prasasti             724082\n",
       "2                         Bahari               6327\n",
       "3                         Wayang             164696\n",
       "4                        Tekstil              43107\n",
       "5          Seni Rupa dan Keramik              76713\n",
       "6       Joang'45 dan M.H Thamrin              17504\n",
       "7   Taman Arkeologi Pulau Onrust              19443\n",
       "8               Monumen Nasional            1516153\n",
       "9   Sejarah Jakarta dan Prasasti             437040\n",
       "10                        Bahari              24076\n",
       "11                        Wayang             202489\n",
       "12                       Tekstil              53485\n",
       "13         Seni Rupa dan Keramik              35966\n",
       "14      Joang'45 dan M.H Thamrin              18370\n",
       "15  Taman Arkeologi Pulau Onrust              15596"
      ]
     },
     "execution_count": 44,
     "metadata": {},
     "output_type": "execute_result"
    }
   ],
   "source": [
    "data_pengunjung #Menghilangkan data 'tahun'"
   ]
  },
  {
   "cell_type": "code",
   "execution_count": 47,
   "metadata": {},
   "outputs": [],
   "source": [
    "data_tiket = data_hasiltiket[['nama_museum','nilai_penjualan']]"
   ]
  },
  {
   "cell_type": "code",
   "execution_count": 48,
   "metadata": {
    "collapsed": true
   },
   "outputs": [
    {
     "data": {
      "text/html": [
       "<div>\n",
       "<style scoped>\n",
       "    .dataframe tbody tr th:only-of-type {\n",
       "        vertical-align: middle;\n",
       "    }\n",
       "\n",
       "    .dataframe tbody tr th {\n",
       "        vertical-align: top;\n",
       "    }\n",
       "\n",
       "    .dataframe thead th {\n",
       "        text-align: right;\n",
       "    }\n",
       "</style>\n",
       "<table border=\"1\" class=\"dataframe\">\n",
       "  <thead>\n",
       "    <tr style=\"text-align: right;\">\n",
       "      <th></th>\n",
       "      <th>nama_museum</th>\n",
       "      <th>nilai_penjualan</th>\n",
       "    </tr>\n",
       "  </thead>\n",
       "  <tbody>\n",
       "    <tr>\n",
       "      <th>0</th>\n",
       "      <td>Monumen Nasional</td>\n",
       "      <td>4574622135</td>\n",
       "    </tr>\n",
       "    <tr>\n",
       "      <th>1</th>\n",
       "      <td>Sejarah Jakarta dan Prasasti</td>\n",
       "      <td>586971800</td>\n",
       "    </tr>\n",
       "    <tr>\n",
       "      <th>2</th>\n",
       "      <td>Bahari</td>\n",
       "      <td>7796400</td>\n",
       "    </tr>\n",
       "    <tr>\n",
       "      <th>3</th>\n",
       "      <td>Wayang</td>\n",
       "      <td>288582750</td>\n",
       "    </tr>\n",
       "    <tr>\n",
       "      <th>4</th>\n",
       "      <td>Tekstil</td>\n",
       "      <td>40929750</td>\n",
       "    </tr>\n",
       "    <tr>\n",
       "      <th>5</th>\n",
       "      <td>Seni Rupa dan Keramik</td>\n",
       "      <td>115220000</td>\n",
       "    </tr>\n",
       "    <tr>\n",
       "      <th>6</th>\n",
       "      <td>Joang'45 dan M.H Thamrin</td>\n",
       "      <td>17552650</td>\n",
       "    </tr>\n",
       "    <tr>\n",
       "      <th>7</th>\n",
       "      <td>Taman Arkeologi Pulau Onrust</td>\n",
       "      <td>25558500</td>\n",
       "    </tr>\n",
       "    <tr>\n",
       "      <th>8</th>\n",
       "      <td>Monumen Nasional</td>\n",
       "      <td>11371147500</td>\n",
       "    </tr>\n",
       "    <tr>\n",
       "      <th>9</th>\n",
       "      <td>Sejarah Jakarta dan Prasasti</td>\n",
       "      <td>874080000</td>\n",
       "    </tr>\n",
       "    <tr>\n",
       "      <th>10</th>\n",
       "      <td>Bahari</td>\n",
       "      <td>48152000</td>\n",
       "    </tr>\n",
       "    <tr>\n",
       "      <th>11</th>\n",
       "      <td>Wayang</td>\n",
       "      <td>404978000</td>\n",
       "    </tr>\n",
       "    <tr>\n",
       "      <th>12</th>\n",
       "      <td>Tekstil</td>\n",
       "      <td>106970000</td>\n",
       "    </tr>\n",
       "    <tr>\n",
       "      <th>13</th>\n",
       "      <td>Seni Rupa dan Keramik</td>\n",
       "      <td>71932000</td>\n",
       "    </tr>\n",
       "    <tr>\n",
       "      <th>14</th>\n",
       "      <td>Joang'45 dan M.H Thamrin</td>\n",
       "      <td>36740000</td>\n",
       "    </tr>\n",
       "    <tr>\n",
       "      <th>15</th>\n",
       "      <td>Taman Arkeologi Pulau Onrust</td>\n",
       "      <td>31192000</td>\n",
       "    </tr>\n",
       "  </tbody>\n",
       "</table>\n",
       "</div>"
      ],
      "text/plain": [
       "                     nama_museum  nilai_penjualan\n",
       "0               Monumen Nasional       4574622135\n",
       "1   Sejarah Jakarta dan Prasasti        586971800\n",
       "2                         Bahari          7796400\n",
       "3                         Wayang        288582750\n",
       "4                        Tekstil         40929750\n",
       "5          Seni Rupa dan Keramik        115220000\n",
       "6       Joang'45 dan M.H Thamrin         17552650\n",
       "7   Taman Arkeologi Pulau Onrust         25558500\n",
       "8               Monumen Nasional      11371147500\n",
       "9   Sejarah Jakarta dan Prasasti        874080000\n",
       "10                        Bahari         48152000\n",
       "11                        Wayang        404978000\n",
       "12                       Tekstil        106970000\n",
       "13         Seni Rupa dan Keramik         71932000\n",
       "14      Joang'45 dan M.H Thamrin         36740000\n",
       "15  Taman Arkeologi Pulau Onrust         31192000"
      ]
     },
     "execution_count": 48,
     "metadata": {},
     "output_type": "execute_result"
    }
   ],
   "source": [
    "data_tiket #Menghilangkan data 'tahun'"
   ]
  },
  {
   "cell_type": "code",
   "execution_count": 67,
   "metadata": {},
   "outputs": [],
   "source": [
    "data_kunjungtahunan = data_pengunjungmuseum[['tahun','jumlah_pengunjung']]\n",
    "#Bermaksud untuk melihat data kunjungan tahunan"
   ]
  },
  {
   "cell_type": "code",
   "execution_count": 72,
   "metadata": {},
   "outputs": [],
   "source": [
    "data_tikettahunan = data_hasiltiket[['tahun','nilai_penjualan']]\n",
    "#Bermaksud untuk melihat data penjualan tiket tahunan"
   ]
  },
  {
   "cell_type": "markdown",
   "metadata": {},
   "source": [
    "### 2. Statistik Data"
   ]
  },
  {
   "cell_type": "code",
   "execution_count": 45,
   "metadata": {
    "collapsed": true
   },
   "outputs": [
    {
     "data": {
      "text/html": [
       "<div>\n",
       "<style scoped>\n",
       "    .dataframe tbody tr th:only-of-type {\n",
       "        vertical-align: middle;\n",
       "    }\n",
       "\n",
       "    .dataframe tbody tr th {\n",
       "        vertical-align: top;\n",
       "    }\n",
       "\n",
       "    .dataframe thead th {\n",
       "        text-align: right;\n",
       "    }\n",
       "</style>\n",
       "<table border=\"1\" class=\"dataframe\">\n",
       "  <thead>\n",
       "    <tr style=\"text-align: right;\">\n",
       "      <th></th>\n",
       "      <th>jumlah_pengunjung</th>\n",
       "    </tr>\n",
       "    <tr>\n",
       "      <th>nama_museum</th>\n",
       "      <th></th>\n",
       "    </tr>\n",
       "  </thead>\n",
       "  <tbody>\n",
       "    <tr>\n",
       "      <th>Monumen Nasional</th>\n",
       "      <td>2769419</td>\n",
       "    </tr>\n",
       "    <tr>\n",
       "      <th>Sejarah Jakarta dan Prasasti</th>\n",
       "      <td>1161122</td>\n",
       "    </tr>\n",
       "    <tr>\n",
       "      <th>Wayang</th>\n",
       "      <td>367185</td>\n",
       "    </tr>\n",
       "    <tr>\n",
       "      <th>Seni Rupa dan Keramik</th>\n",
       "      <td>112679</td>\n",
       "    </tr>\n",
       "    <tr>\n",
       "      <th>Tekstil</th>\n",
       "      <td>96592</td>\n",
       "    </tr>\n",
       "    <tr>\n",
       "      <th>Joang'45 dan M.H Thamrin</th>\n",
       "      <td>35874</td>\n",
       "    </tr>\n",
       "    <tr>\n",
       "      <th>Taman Arkeologi Pulau Onrust</th>\n",
       "      <td>35039</td>\n",
       "    </tr>\n",
       "    <tr>\n",
       "      <th>Bahari</th>\n",
       "      <td>30403</td>\n",
       "    </tr>\n",
       "  </tbody>\n",
       "</table>\n",
       "</div>"
      ],
      "text/plain": [
       "                              jumlah_pengunjung\n",
       "nama_museum                                    \n",
       "Monumen Nasional                        2769419\n",
       "Sejarah Jakarta dan Prasasti            1161122\n",
       "Wayang                                   367185\n",
       "Seni Rupa dan Keramik                    112679\n",
       "Tekstil                                   96592\n",
       "Joang'45 dan M.H Thamrin                  35874\n",
       "Taman Arkeologi Pulau Onrust              35039\n",
       "Bahari                                    30403"
      ]
     },
     "execution_count": 45,
     "metadata": {},
     "output_type": "execute_result"
    }
   ],
   "source": [
    "data_pengunjung.groupby('nama_museum').sum().sort_values('jumlah_pengunjung', ascending=False)\n",
    "#Data JUMLAH Kunjungan untuk setiap Objek Museum"
   ]
  },
  {
   "cell_type": "code",
   "execution_count": 49,
   "metadata": {
    "collapsed": true
   },
   "outputs": [
    {
     "data": {
      "text/html": [
       "<div>\n",
       "<style scoped>\n",
       "    .dataframe tbody tr th:only-of-type {\n",
       "        vertical-align: middle;\n",
       "    }\n",
       "\n",
       "    .dataframe tbody tr th {\n",
       "        vertical-align: top;\n",
       "    }\n",
       "\n",
       "    .dataframe thead th {\n",
       "        text-align: right;\n",
       "    }\n",
       "</style>\n",
       "<table border=\"1\" class=\"dataframe\">\n",
       "  <thead>\n",
       "    <tr style=\"text-align: right;\">\n",
       "      <th></th>\n",
       "      <th>nilai_penjualan</th>\n",
       "    </tr>\n",
       "    <tr>\n",
       "      <th>nama_museum</th>\n",
       "      <th></th>\n",
       "    </tr>\n",
       "  </thead>\n",
       "  <tbody>\n",
       "    <tr>\n",
       "      <th>Monumen Nasional</th>\n",
       "      <td>15945769635</td>\n",
       "    </tr>\n",
       "    <tr>\n",
       "      <th>Sejarah Jakarta dan Prasasti</th>\n",
       "      <td>1461051800</td>\n",
       "    </tr>\n",
       "    <tr>\n",
       "      <th>Wayang</th>\n",
       "      <td>693560750</td>\n",
       "    </tr>\n",
       "    <tr>\n",
       "      <th>Seni Rupa dan Keramik</th>\n",
       "      <td>187152000</td>\n",
       "    </tr>\n",
       "    <tr>\n",
       "      <th>Tekstil</th>\n",
       "      <td>147899750</td>\n",
       "    </tr>\n",
       "    <tr>\n",
       "      <th>Taman Arkeologi Pulau Onrust</th>\n",
       "      <td>56750500</td>\n",
       "    </tr>\n",
       "    <tr>\n",
       "      <th>Bahari</th>\n",
       "      <td>55948400</td>\n",
       "    </tr>\n",
       "    <tr>\n",
       "      <th>Joang'45 dan M.H Thamrin</th>\n",
       "      <td>54292650</td>\n",
       "    </tr>\n",
       "  </tbody>\n",
       "</table>\n",
       "</div>"
      ],
      "text/plain": [
       "                              nilai_penjualan\n",
       "nama_museum                                  \n",
       "Monumen Nasional                  15945769635\n",
       "Sejarah Jakarta dan Prasasti       1461051800\n",
       "Wayang                              693560750\n",
       "Seni Rupa dan Keramik               187152000\n",
       "Tekstil                             147899750\n",
       "Taman Arkeologi Pulau Onrust         56750500\n",
       "Bahari                               55948400\n",
       "Joang'45 dan M.H Thamrin             54292650"
      ]
     },
     "execution_count": 49,
     "metadata": {},
     "output_type": "execute_result"
    }
   ],
   "source": [
    "data_tiket.groupby('nama_museum').sum().sort_values('nilai_penjualan', ascending=False)\n",
    "#Data JUMLAH Hasil Penjualan Tiket Masuk untuk setiap Objek Museum"
   ]
  },
  {
   "cell_type": "markdown",
   "metadata": {},
   "source": [
    "### 3. Visualisasi Data"
   ]
  },
  {
   "cell_type": "code",
   "execution_count": 46,
   "metadata": {
    "collapsed": true
   },
   "outputs": [
    {
     "data": {
      "text/plain": [
       "Text(0,0.5,'Jumlah')"
      ]
     },
     "execution_count": 46,
     "metadata": {},
     "output_type": "execute_result"
    },
    {
     "data": {
      "image/png": "[encoded data removed]",
      "text/plain": [
       "<Figure size 576x288 with 1 Axes>"
      ]
     },
     "metadata": {
      "needs_background": "light"
     },
     "output_type": "display_data"
    }
   ],
   "source": [
    "ax = data_pengunjung.groupby('nama_museum').sum().sort_values('jumlah_pengunjung', ascending=False)\n",
    "ax = ax.plot(kind='bar', title = \"Jumlah Pengunjung Museum Tahun 2010-2011\", figsize=[8,4], legend=True, fontsize=11)\n",
    "ax.set_xlabel(\"Nama Museum\", fontsize=11)\n",
    "ax.set_ylabel(\"Jumlah\", fontsize=11)"
   ]
  },
  {
   "cell_type": "code",
   "execution_count": 50,
   "metadata": {
    "collapsed": true
   },
   "outputs": [
    {
     "data": {
      "text/plain": [
       "Text(0,0.5,'Hasil Penjualan')"
      ]
     },
     "execution_count": 50,
     "metadata": {},
     "output_type": "execute_result"
    },
    {
     "data": {
      "image/png": "[encoded data removed]",
      "text/plain": [
       "<Figure size 576x288 with 1 Axes>"
      ]
     },
     "metadata": {
      "needs_background": "light"
     },
     "output_type": "display_data"
    }
   ],
   "source": [
    "ax = data_tiket.groupby('nama_museum').sum().sort_values('nilai_penjualan', ascending=False)\n",
    "ax = ax.plot(kind='bar', title = \"Hasil Penjualan Tiket Museum Tahun 2010-2011\", figsize=[8,4], legend=True, fontsize=11)\n",
    "ax.set_xlabel(\"Nama Museum\", fontsize=11)\n",
    "ax.set_ylabel(\"Hasil Penjualan\", fontsize=11)"
   ]
  },
  {
   "cell_type": "markdown",
   "metadata": {},
   "source": [
    "### 4. Analisa Data"
   ]
  },
  {
   "cell_type": "markdown",
   "metadata": {},
   "source": [
    "Dari kedua data yang didapatkan, ternyata jumlah pengunjung dan hasil penjualan tiket di objek wisata Monumen Nasional atau yang biasa dikenal dengan nama \"Monas\" terlihat jauh lebih besar dari objek wisata museum lainnya."
   ]
  },
  {
   "cell_type": "code",
   "execution_count": 62,
   "metadata": {},
   "outputs": [],
   "source": [
    "data_pengunjungmonas = data_pengunjungmuseum[data_pengunjungmuseum['nama_museum']=='Monumen Nasional']"
   ]
  },
  {
   "cell_type": "code",
   "execution_count": 149,
   "metadata": {
    "collapsed": true
   },
   "outputs": [
    {
     "data": {
      "text/html": [
       "<div>\n",
       "<style scoped>\n",
       "    .dataframe tbody tr th:only-of-type {\n",
       "        vertical-align: middle;\n",
       "    }\n",
       "\n",
       "    .dataframe tbody tr th {\n",
       "        vertical-align: top;\n",
       "    }\n",
       "\n",
       "    .dataframe thead th {\n",
       "        text-align: right;\n",
       "    }\n",
       "</style>\n",
       "<table border=\"1\" class=\"dataframe\">\n",
       "  <thead>\n",
       "    <tr style=\"text-align: right;\">\n",
       "      <th></th>\n",
       "      <th>tahun</th>\n",
       "      <th>jumlah_pengunjung</th>\n",
       "    </tr>\n",
       "    <tr>\n",
       "      <th>nama_museum</th>\n",
       "      <th></th>\n",
       "      <th></th>\n",
       "    </tr>\n",
       "  </thead>\n",
       "  <tbody>\n",
       "    <tr>\n",
       "      <th>Monumen Nasional</th>\n",
       "      <td>4021</td>\n",
       "      <td>2769419</td>\n",
       "    </tr>\n",
       "  </tbody>\n",
       "</table>\n",
       "</div>"
      ],
      "text/plain": [
       "                  tahun  jumlah_pengunjung\n",
       "nama_museum                               \n",
       "Monumen Nasional   4021            2769419"
      ]
     },
     "execution_count": 149,
     "metadata": {},
     "output_type": "execute_result"
    }
   ],
   "source": [
    "data_pengunjungmonas.groupby('nama_museum').sum()"
   ]
  },
  {
   "cell_type": "code",
   "execution_count": 152,
   "metadata": {
    "collapsed": true
   },
   "outputs": [
    {
     "data": {
      "text/html": [
       "<div>\n",
       "<style scoped>\n",
       "    .dataframe tbody tr th:only-of-type {\n",
       "        vertical-align: middle;\n",
       "    }\n",
       "\n",
       "    .dataframe tbody tr th {\n",
       "        vertical-align: top;\n",
       "    }\n",
       "\n",
       "    .dataframe thead th {\n",
       "        text-align: right;\n",
       "    }\n",
       "</style>\n",
       "<table border=\"1\" class=\"dataframe\">\n",
       "  <thead>\n",
       "    <tr style=\"text-align: right;\">\n",
       "      <th></th>\n",
       "      <th>jumlah_pengunjung</th>\n",
       "    </tr>\n",
       "    <tr>\n",
       "      <th>tahun</th>\n",
       "      <th></th>\n",
       "    </tr>\n",
       "  </thead>\n",
       "  <tbody>\n",
       "    <tr>\n",
       "      <th>2010</th>\n",
       "      <td>288142.250</td>\n",
       "    </tr>\n",
       "    <tr>\n",
       "      <th>2011</th>\n",
       "      <td>287896.875</td>\n",
       "    </tr>\n",
       "  </tbody>\n",
       "</table>\n",
       "</div>"
      ],
      "text/plain": [
       "       jumlah_pengunjung\n",
       "tahun                   \n",
       "2010          288142.250\n",
       "2011          287896.875"
      ]
     },
     "execution_count": 152,
     "metadata": {},
     "output_type": "execute_result"
    }
   ],
   "source": [
    "data_kunjungtahunan.groupby('tahun').mean()\n",
    "#Bermaksud untuk melihat rata-rata jumlah kunjungan per tahun yang \n",
    "#Dapat dijadikan tolok ukur jumlah kunjungan sebuah objek wisata di atas atau di bawah rata-rata kunjungan keseluruhan"
   ]
  },
  {
   "cell_type": "code",
   "execution_count": 65,
   "metadata": {},
   "outputs": [],
   "source": [
    "data_hasiltiketmonas = data_hasiltiket[data_hasiltiket['nama_museum']=='Monumen Nasional']"
   ]
  },
  {
   "cell_type": "code",
   "execution_count": 66,
   "metadata": {
    "collapsed": true
   },
   "outputs": [
    {
     "data": {
      "text/html": [
       "<div>\n",
       "<style scoped>\n",
       "    .dataframe tbody tr th:only-of-type {\n",
       "        vertical-align: middle;\n",
       "    }\n",
       "\n",
       "    .dataframe tbody tr th {\n",
       "        vertical-align: top;\n",
       "    }\n",
       "\n",
       "    .dataframe thead th {\n",
       "        text-align: right;\n",
       "    }\n",
       "</style>\n",
       "<table border=\"1\" class=\"dataframe\">\n",
       "  <thead>\n",
       "    <tr style=\"text-align: right;\">\n",
       "      <th></th>\n",
       "      <th>tahun</th>\n",
       "      <th>nilai_penjualan</th>\n",
       "    </tr>\n",
       "    <tr>\n",
       "      <th>nama_museum</th>\n",
       "      <th></th>\n",
       "      <th></th>\n",
       "    </tr>\n",
       "  </thead>\n",
       "  <tbody>\n",
       "    <tr>\n",
       "      <th>Monumen Nasional</th>\n",
       "      <td>4021</td>\n",
       "      <td>15945769635</td>\n",
       "    </tr>\n",
       "  </tbody>\n",
       "</table>\n",
       "</div>"
      ],
      "text/plain": [
       "                  tahun  nilai_penjualan\n",
       "nama_museum                             \n",
       "Monumen Nasional   4021      15945769635"
      ]
     },
     "execution_count": 66,
     "metadata": {},
     "output_type": "execute_result"
    }
   ],
   "source": [
    "data_hasiltiketmonas.groupby('nama_museum').sum()"
   ]
  },
  {
   "cell_type": "code",
   "execution_count": 156,
   "metadata": {
    "collapsed": true
   },
   "outputs": [
    {
     "data": {
      "text/html": [
       "<div>\n",
       "<style scoped>\n",
       "    .dataframe tbody tr th:only-of-type {\n",
       "        vertical-align: middle;\n",
       "    }\n",
       "\n",
       "    .dataframe tbody tr th {\n",
       "        vertical-align: top;\n",
       "    }\n",
       "\n",
       "    .dataframe thead th {\n",
       "        text-align: right;\n",
       "    }\n",
       "</style>\n",
       "<table border=\"1\" class=\"dataframe\">\n",
       "  <thead>\n",
       "    <tr style=\"text-align: right;\">\n",
       "      <th></th>\n",
       "      <th>nilai_penjualan</th>\n",
       "    </tr>\n",
       "    <tr>\n",
       "      <th>tahun</th>\n",
       "      <th></th>\n",
       "    </tr>\n",
       "  </thead>\n",
       "  <tbody>\n",
       "    <tr>\n",
       "      <th>2010</th>\n",
       "      <td>7.071542e+08</td>\n",
       "    </tr>\n",
       "    <tr>\n",
       "      <th>2011</th>\n",
       "      <td>1.618149e+09</td>\n",
       "    </tr>\n",
       "  </tbody>\n",
       "</table>\n",
       "</div>"
      ],
      "text/plain": [
       "       nilai_penjualan\n",
       "tahun                 \n",
       "2010      7.071542e+08\n",
       "2011      1.618149e+09"
      ]
     },
     "execution_count": 156,
     "metadata": {},
     "output_type": "execute_result"
    }
   ],
   "source": [
    "data_tikettahunan.groupby('tahun').mean()\n",
    "#Bermaksud untuk melihat rata-rata hasil penjualan tiket per tahun yang \n",
    "#Dapat dijadikan tolok ukur hasil penjualan tiket sebuah objek wisata di atas atau di bawah rata-rata keseluruhan"
   ]
  },
  {
   "cell_type": "markdown",
   "metadata": {},
   "source": [
    "### Data Monumen Nasional\n",
    "Dari kedua data di atas diketahui bahwa dari tahun 2010 sampai 2011, jumlah pengunjung objek wisata Monumen Nasional mencapai 2.769.419 orang, jauh di atas rata-rata jumlah pengunjung dari semua objek wisata museum yaitu berkisar 288.000 orang, kemudian hasil penjualan tiket masuk di Monas selama 2 tahun mencapai Rp 15.945.769.635,-. Maka, tidak heran jika pada data yang akan dijelaskan berikutnya, Monas atau Monumen Nasional termasuk di dalam Objek Wisata Unggulan di DKI Jakarta. \n",
    "Selanjutnya, pada poin 5 akan dijelaskan potensi objek wisata museum di DKI Jakarta."
   ]
  },
  {
   "cell_type": "markdown",
   "metadata": {},
   "source": [
    "### 5. Potensi Wisata Museum Dibandingkan Objek Wisata Lain"
   ]
  },
  {
   "cell_type": "markdown",
   "metadata": {},
   "source": [
    "Dari laman yang sama, didapatkan juga data yang menunjukkan jumlah kunjangan wisatawan ke beberapa obyek wisata unggulan di Provinsi Daerah Khusus Ibukota Jakarta. Data yang bersumber dari data.go.id ini merupakan data dari tahun 2008 sampai dengan 2012.\n",
    "Sumber: https://data.go.id/dataset/jumlah-kunjungan-wisatawan-ke-obyek-wisata-menurut-lokasi-dki-jakarta/resource/241173db-6ab7-497d-acca-7d7871835cea"
   ]
  },
  {
   "cell_type": "code",
   "execution_count": 83,
   "metadata": {},
   "outputs": [],
   "source": [
    "data_wisata = pd.read_csv('jumlahkunjunganwisatawankeobyekwisataunggulanmenurutlokasi20082012.csv', delimiter = ',', encoding = \"ISO-8859-1\")"
   ]
  },
  {
   "cell_type": "markdown",
   "metadata": {},
   "source": [
    "Berikut ini adalah data Jumlah Kunjungan Wisatawan ke Obyek Wisata Unggulan di DKI Jakarta menurut Lokasi \n",
    "### (Tahun 2010-2011):"
   ]
  },
  {
   "cell_type": "code",
   "execution_count": 143,
   "metadata": {},
   "outputs": [],
   "source": [
    "data_1011 = data_wisata.loc[(data_wisata['tahun']==2010) | (data_wisata['tahun']==2011)]"
   ]
  },
  {
   "cell_type": "code",
   "execution_count": 144,
   "metadata": {},
   "outputs": [],
   "source": [
    "data_tahun1011 = data_1011[['lokasi', 'jumlah_kunjungan']]"
   ]
  },
  {
   "cell_type": "code",
   "execution_count": 147,
   "metadata": {
    "collapsed": true
   },
   "outputs": [
    {
     "data": {
      "text/html": [
       "<div>\n",
       "<style scoped>\n",
       "    .dataframe tbody tr th:only-of-type {\n",
       "        vertical-align: middle;\n",
       "    }\n",
       "\n",
       "    .dataframe tbody tr th {\n",
       "        vertical-align: top;\n",
       "    }\n",
       "\n",
       "    .dataframe thead th {\n",
       "        text-align: right;\n",
       "    }\n",
       "</style>\n",
       "<table border=\"1\" class=\"dataframe\">\n",
       "  <thead>\n",
       "    <tr style=\"text-align: right;\">\n",
       "      <th></th>\n",
       "      <th>jumlah_kunjungan</th>\n",
       "    </tr>\n",
       "    <tr>\n",
       "      <th>lokasi</th>\n",
       "      <th></th>\n",
       "    </tr>\n",
       "  </thead>\n",
       "  <tbody>\n",
       "    <tr>\n",
       "      <th>Taman Impian Jaya Ancol</th>\n",
       "      <td>31284906</td>\n",
       "    </tr>\n",
       "    <tr>\n",
       "      <th>TMII</th>\n",
       "      <td>10485164</td>\n",
       "    </tr>\n",
       "    <tr>\n",
       "      <th>Ragunan</th>\n",
       "      <td>7670591</td>\n",
       "    </tr>\n",
       "    <tr>\n",
       "      <th>Monumen Nasional</th>\n",
       "      <td>2769419</td>\n",
       "    </tr>\n",
       "    <tr>\n",
       "      <th>Museum Sejarah Jakarta</th>\n",
       "      <td>1161122</td>\n",
       "    </tr>\n",
       "    <tr>\n",
       "      <th>Museum Nasional</th>\n",
       "      <td>569574</td>\n",
       "    </tr>\n",
       "    <tr>\n",
       "      <th>Museum Satria Mandala</th>\n",
       "      <td>138539</td>\n",
       "    </tr>\n",
       "    <tr>\n",
       "      <th>Pelabuhan Sunda Kelapa</th>\n",
       "      <td>68291</td>\n",
       "    </tr>\n",
       "  </tbody>\n",
       "</table>\n",
       "</div>"
      ],
      "text/plain": [
       "                         jumlah_kunjungan\n",
       "lokasi                                   \n",
       "Taman Impian Jaya Ancol          31284906\n",
       "TMII                             10485164\n",
       "Ragunan                           7670591\n",
       "Monumen Nasional                  2769419\n",
       "Museum Sejarah Jakarta            1161122\n",
       "Museum Nasional                    569574\n",
       "Museum Satria Mandala              138539\n",
       "Pelabuhan Sunda Kelapa              68291"
      ]
     },
     "execution_count": 147,
     "metadata": {},
     "output_type": "execute_result"
    }
   ],
   "source": [
    "data_tahun1011.groupby('lokasi').sum().sort_values('jumlah_kunjungan', ascending=False)"
   ]
  },
  {
   "cell_type": "code",
   "execution_count": 148,
   "metadata": {
    "collapsed": true
   },
   "outputs": [
    {
     "data": {
      "text/plain": [
       "Text(0,0.5,'Jumlah')"
      ]
     },
     "execution_count": 148,
     "metadata": {},
     "output_type": "execute_result"
    },
    {
     "data": {
      "image/png": "[encoded data removed]",
      "text/plain": [
       "<Figure size 576x288 with 1 Axes>"
      ]
     },
     "metadata": {
      "needs_background": "light"
     },
     "output_type": "display_data"
    }
   ],
   "source": [
    "ax = data_tahun1011.groupby('lokasi').sum().sort_values('jumlah_kunjungan', ascending=False)\n",
    "ax = ax.plot(kind='bar', title = \"Jumlah Kunjungan per Lokasi selama 2010-2011\", figsize=[8,4], legend=True, fontsize=11)\n",
    "ax.set_xlabel(\"Lokasi\", fontsize=11)\n",
    "ax.set_ylabel(\"Jumlah\", fontsize=11)"
   ]
  },
  {
   "cell_type": "markdown",
   "metadata": {},
   "source": [
    "### Rata-rata Jumlah Kunjungan 3 Objek Wisata Unggulan"
   ]
  },
  {
   "cell_type": "code",
   "execution_count": 164,
   "metadata": {},
   "outputs": [],
   "source": [
    "data_3besar = data_tahun1011.loc[(data_tahun1011['lokasi']==\"Taman Impian Jaya Ancol\") | (data_wisata['lokasi']==\"TMII\") | (data_wisata['lokasi']==\"Ragunan\")]"
   ]
  },
  {
   "cell_type": "code",
   "execution_count": 168,
   "metadata": {
    "collapsed": true
   },
   "outputs": [
    {
     "data": {
      "text/html": [
       "<div>\n",
       "<style scoped>\n",
       "    .dataframe tbody tr th:only-of-type {\n",
       "        vertical-align: middle;\n",
       "    }\n",
       "\n",
       "    .dataframe tbody tr th {\n",
       "        vertical-align: top;\n",
       "    }\n",
       "\n",
       "    .dataframe thead th {\n",
       "        text-align: right;\n",
       "    }\n",
       "</style>\n",
       "<table border=\"1\" class=\"dataframe\">\n",
       "  <thead>\n",
       "    <tr style=\"text-align: right;\">\n",
       "      <th></th>\n",
       "      <th>jumlah_kunjungan</th>\n",
       "    </tr>\n",
       "    <tr>\n",
       "      <th>lokasi</th>\n",
       "      <th></th>\n",
       "    </tr>\n",
       "  </thead>\n",
       "  <tbody>\n",
       "    <tr>\n",
       "      <th>Taman Impian Jaya Ancol</th>\n",
       "      <td>15642453.0</td>\n",
       "    </tr>\n",
       "    <tr>\n",
       "      <th>TMII</th>\n",
       "      <td>5242582.0</td>\n",
       "    </tr>\n",
       "    <tr>\n",
       "      <th>Ragunan</th>\n",
       "      <td>3835295.5</td>\n",
       "    </tr>\n",
       "  </tbody>\n",
       "</table>\n",
       "</div>"
      ],
      "text/plain": [
       "                         jumlah_kunjungan\n",
       "lokasi                                   \n",
       "Taman Impian Jaya Ancol        15642453.0\n",
       "TMII                            5242582.0\n",
       "Ragunan                         3835295.5"
      ]
     },
     "execution_count": 168,
     "metadata": {},
     "output_type": "execute_result"
    }
   ],
   "source": [
    "data_3besar.groupby('lokasi').mean().sort_values('jumlah_kunjungan', ascending=False)"
   ]
  },
  {
   "cell_type": "markdown",
   "metadata": {},
   "source": [
    "## KESIMPULAN"
   ]
  },
  {
   "cell_type": "markdown",
   "metadata": {},
   "source": [
    "Dari data-data di atas, dapat dilihat bahwa objek wisata museum Monumen Nasional berada pada peringkat 4 dilihat dari jumlah kunjungan pada tahun 2010-2011 yang dibandingkan dengan objek wisata lainnya. Meskipun begitu, 3 museum lain yang berada di peringkat berikutnya ternyata termasuk dalam objek wisata unggulan di DKI Jakarta. \n",
    "Jika dibandingkan dengan objek wisata unggualan di peringkat 1 sampai 3, jumlah pengunjung museum secara keluruhan (seperti terhitung di bawah) yang adalah sebanyak 4.608.313 orang, ternyata masih belum bisa melebihi jumlah pengunjung 3 objek wisata unggulan tersebut. Bahkan, dibandingkan rata-rata kunjungan per tahun dari ketiga objek wisata unggulan, total pengunjung museum selama 2 tahun tidak lebih besar. Maka, dapat disimpulkan bahwa potensi objek wisata museum di Jakarta masih kurang, sehingga diperlukan perbaikan dan pengembangan lebih lanjut."
   ]
  },
  {
   "cell_type": "code",
   "execution_count": 159,
   "metadata": {},
   "outputs": [],
   "source": [
    "data_jumlahpengunjungtotal = data_pengunjung.groupby('nama_museum').sum().sort_values('jumlah_pengunjung', ascending=False)"
   ]
  },
  {
   "cell_type": "code",
   "execution_count": 160,
   "metadata": {},
   "outputs": [
    {
     "data": {
      "text/plain": [
       "jumlah_pengunjung    4608313\n",
       "dtype: int64"
      ]
     },
     "execution_count": 160,
     "metadata": {},
     "output_type": "execute_result"
    }
   ],
   "source": [
    "data_jumlahpengunjungtotal.sum()"
   ]
  }
 ],
 "metadata": {
  "kernelspec": {
   "display_name": "Python 3",
   "language": "python",
   "name": "python3"
  },
  "language_info": {
   "codemirror_mode": {
    "name": "ipython",
    "version": 3
   },
   "file_extension": ".py",
   "mimetype": "text/x-python",
   "name": "python",
   "nbconvert_exporter": "python",
   "pygments_lexer": "ipython3",
   "version": "3.7.0"
  }
 },
 "nbformat": 4,
 "nbformat_minor": 2
}
