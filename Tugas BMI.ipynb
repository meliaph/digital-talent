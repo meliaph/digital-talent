{
 "cells": [
  {
   "cell_type": "markdown",
   "metadata": {},
   "source": [
    "# Tugas BMI"
   ]
  },
  {
   "cell_type": "markdown",
   "metadata": {},
   "source": [
    "Body Mass Index (BMI) menentukan sebuah keidealan berat badan terhadap tinggi badan. \n",
    "Berikut adalah formula dari BMI = weight (kg) / height (m)^2"
   ]
  },
  {
   "cell_type": "code",
   "execution_count": 29,
   "metadata": {},
   "outputs": [
    {
     "name": "stdout",
     "output_type": "stream",
     "text": [
      "Dengan berat badan: 43 kg dan tinggi badan 1.5 m\n",
      "Body Mass Index (BMI) Anda termasuk dalam kategori:\n",
      "NORMAL (HEALTHY WEIGHT)\n"
     ]
    }
   ],
   "source": [
    "#Silakan masukkan berat badan Anda (Dalam kilogram)\n",
    "beratbadan=43 \n",
    "\n",
    "#Silakan masukkan tinggi badan Anda (Dalam cm)\n",
    "tinggibadan=150 \n",
    "\n",
    "bmiscore=beratbadan/((tinggibadan/100)**2)\n",
    "\n",
    "if bmiscore<15:\n",
    "    print(\"Dengan berat badan:\", beratbadan, \"kg dan tinggi badan\", tinggibadan/100, \"m\")\n",
    "    print(\"Body Mass Index (BMI) Anda termasuk dalam kategori:\")\n",
    "    print(\"VERY SEVERELY UNDERWEIGHT\")\n",
    "elif bmiscore>=15 and bmiscore<16:\n",
    "    print(\"Dengan berat badan:\", beratbadan, \"kg dan tinggi badan\", tinggibadan/100, \"m\")\n",
    "    print(\"Body Mass Index (BMI) Anda termasuk dalam kategori:\")\n",
    "    print(\"SEVERELY UNDERWEIGHT\")\n",
    "elif bmiscore>=16 and bmiscore<18.5:\n",
    "    print(\"Dengan berat badan:\", beratbadan, \"kg dan tinggi badan\", tinggibadan/100, \"m\")\n",
    "    print(\"Body Mass Index (BMI) Anda termasuk dalam kategori:\")\n",
    "    print(\"UNDERWEIGHT\")\n",
    "elif bmiscore>=18.5 and bmiscore<25:\n",
    "    print(\"Dengan berat badan:\", beratbadan, \"kg dan tinggi badan\", tinggibadan/100, \"m\")\n",
    "    print(\"Body Mass Index (BMI) Anda termasuk dalam kategori:\")\n",
    "    print(\"NORMAL (HEALTHY WEIGHT)\")\n",
    "elif bmiscore>=25 and bmiscore<30:\n",
    "    print(\"Dengan berat badan:\", beratbadan, \"kg dan tinggi badan\", tinggibadan/100, \"m\")\n",
    "    print(\"Body Mass Index (BMI) Anda termasuk dalam kategori:\")\n",
    "    print(\"OVERWEIGHT\")\n",
    "elif bmiscore>=30 and bmiscore<35:\n",
    "    print(\"Dengan berat badan:\", beratbadan, \"kg dan tinggi badan\", tinggibadan/100, \"m\")\n",
    "    print(\"Body Mass Index (BMI) Anda termasuk dalam kategori:\")\n",
    "    print(\"MODERATELY OBESE\")\n",
    "elif bmiscore>=35 and bmiscore<40:\n",
    "    print(\"Dengan berat badan:\", beratbadan, \"kg dan tinggi badan\", tinggibadan/100, \"m\")\n",
    "    print(\"Body Mass Index (BMI) Anda termasuk dalam kategori:\")\n",
    "    print(\"SEVERELY OBESE\")\n",
    "elif bmiscore>=40:\n",
    "    print(\"Dengan berat badan:\", beratbadan, \"kg dan tinggi badan\", tinggibadan/100, \"m\")\n",
    "    print(\"Body Mass Index (BMI) Anda termasuk dalam kategori:\")\n",
    "    print(\"VERY SEVERELY OBESE\")\n",
    "else:\n",
    "    print(\"TERJADI KESALAHAN, SILAKAN INPUT ULANG BERAT BADAN DAN TINGGI BADAN ANDA\")"
   ]
  },
  {
   "cell_type": "code",
   "execution_count": null,
   "metadata": {},
   "outputs": [],
   "source": []
  }
 ],
 "metadata": {
  "kernelspec": {
   "display_name": "Python 3",
   "language": "python",
   "name": "python3"
  },
  "language_info": {
   "codemirror_mode": {
    "name": "ipython",
    "version": 3
   },
   "file_extension": ".py",
   "mimetype": "text/x-python",
   "name": "python",
   "nbconvert_exporter": "python",
   "pygments_lexer": "ipython3",
   "version": "3.7.0"
  }
 },
 "nbformat": 4,
 "nbformat_minor": 2
}
